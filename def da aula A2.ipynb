{
 "cells": [
  {
   "cell_type": "markdown",
   "metadata": {},
   "source": [
    "# Def que realiza truncamento e arredondamento"
   ]
  },
  {
   "cell_type": "code",
   "execution_count": 68,
   "metadata": {},
   "outputs": [
    {
     "name": "stdout",
     "output_type": "stream",
     "text": [
      "0.102568  * (10 ^ 2 )\n"
     ]
    }
   ],
   "source": [
    "#truncamento e arredondamento\n",
    "def justdoit(x,count,limite):\n",
    "  if(count>=limite): \n",
    "    a=x-int(x) \n",
    "    x=int(x)\n",
    "    if(a>=0.5):\n",
    "      x+=1\n",
    "\n",
    "    cont=0\n",
    "    while(x>1):\n",
    "      x/=10\n",
    "      cont+=1 \n",
    "    \n",
    "    print(round(x,count),\" * (10 ^\",cont-count,\")\")\n",
    "  else:\n",
    "    cont=0\n",
    "    while(x>=1):\n",
    "      x=x/10\n",
    "      cont+=1\n",
    "    \n",
    "    print(round(x,cont),\" * (10 ^\",cont-count,\")\")\n",
    "\n",
    "\n",
    "x=10.2568\n",
    "y=4\n",
    "limite=5\n",
    "count=0\n",
    "h=0\n",
    "while(h!=y):\n",
    "  x*=10\n",
    "  count+=1\n",
    "  h+=1\n",
    "justdoit(x,count,limite)\n"
   ]
  },
  {
   "cell_type": "markdown",
   "metadata": {},
   "source": [
    "# Binário Fracionário para Decimal"
   ]
  },
  {
   "cell_type": "code",
   "execution_count": 63,
   "metadata": {},
   "outputs": [
    {
     "name": "stdout",
     "output_type": "stream",
     "text": [
      "O número a ser transformado em binário é:\n",
      "0.000111\n",
      "A base em binário é: 0b1010\n",
      "Valor em binário a ser convertindo é r_1 =  0.109375\n"
     ]
    }
   ],
   "source": [
    "def bintodec(num):\n",
    "    r_1=0\n",
    "    for i in range (0,8):\n",
    "        if(num[i]!=0 and num[i]!='.'):\n",
    "            r_1=r_1+2**(1-i)\n",
    "    print( 'Valor em binário a ser convertindo é r_1 = ', r_1 )\n",
    "\n",
    "num=[0,'.',0,0,0,1,1,1]\n",
    "a=[]\n",
    "print(\"O número a ser transformado em binário é:\")\n",
    "for i in range (0,8):\n",
    "    print(num[i],end='')    \n",
    "print('\\nA base em binário é:', bin(10))\n",
    "bintodec(num)"
   ]
  }
 ],
 "metadata": {
  "kernelspec": {
   "display_name": "Python 3",
   "language": "python",
   "name": "python3"
  },
  "language_info": {
   "codemirror_mode": {
    "name": "ipython",
    "version": 3
   },
   "file_extension": ".py",
   "mimetype": "text/x-python",
   "name": "python",
   "nbconvert_exporter": "python",
   "pygments_lexer": "ipython3",
   "version": "3.6.5"
  }
 },
 "nbformat": 4,
 "nbformat_minor": 2
}
