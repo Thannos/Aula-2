{
 "cells": [
  {
   "cell_type": "markdown",
   "metadata": {},
   "source": [
    "# Def que realiza truncamento e arredondamento"
   ]
  },
  {
   "cell_type": "code",
   "execution_count": 14,
   "metadata": {},
   "outputs": [
    {
     "name": "stdout",
     "output_type": "stream",
     "text": [
      "0.10055599999999995  * (10 ^ 2 )\n"
     ]
    }
   ],
   "source": [
    "#truncamento e arredondamento\n",
    "def justdoit(x,count):\n",
    "  if(count>=4): \n",
    "    a=x-int(x) \n",
    "    x=int(x)\n",
    "    if(a>=0.5):\n",
    "      x+=1\n",
    "\n",
    "    cont=0\n",
    "    while(x>1):\n",
    "      x/=10\n",
    "      cont+=1 \n",
    "    \n",
    "    print(x,\" * (10 ^\",cont-count,\")\")\n",
    "  else:\n",
    "    cont=0\n",
    "    while(x>1):\n",
    "      x/=10\n",
    "      cont+=1\n",
    "    \n",
    "    print(x,\" * (10 ^\",cont-count,\")\")\n",
    "\n",
    "\n",
    "x=10.0556\n",
    "count=0\n",
    "h=1\n",
    "while(h!=0):\n",
    "  x*=10\n",
    "  count+=1\n",
    "  h=x-int(x)\n",
    "\n",
    "justdoit(x,count)\n"
   ]
  }
 ],
 "metadata": {
  "kernelspec": {
   "display_name": "Python 3",
   "language": "python",
   "name": "python3"
  },
  "language_info": {
   "codemirror_mode": {
    "name": "ipython",
    "version": 3
   },
   "file_extension": ".py",
   "mimetype": "text/x-python",
   "name": "python",
   "nbconvert_exporter": "python",
   "pygments_lexer": "ipython3",
   "version": "3.6.5"
  }
 },
 "nbformat": 4,
 "nbformat_minor": 2
}
