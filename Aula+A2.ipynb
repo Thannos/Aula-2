{
 "cells": [
  {
   "cell_type": "code",
   "execution_count": 1,
   "metadata": {
    "collapsed": false
   },
   "outputs": [
    {
     "name": "stdout",
     "output_type": "stream",
     "text": [
      "0.102568  * (10 ^ 2 )\n"
     ]
    }
   ],
   "source": [
    "#truncamento e arredondamento\n",
    "def justdoit(x,count,limite):\n",
    "  if(count>=limite): \n",
    "    a=x-int(x) \n",
    "    x=int(x)\n",
    "    if(a>=0.5):\n",
    "      x+=1\n",
    "\n",
    "    cont=0\n",
    "    while(x>1):\n",
    "      x/=10\n",
    "      cont+=1 \n",
    "    \n",
    "    print(round(x,count),\" * (10 ^\",cont-count,\")\")\n",
    "  else:\n",
    "    cont=0\n",
    "    while(x>=1):\n",
    "      x=x/10\n",
    "      cont+=1\n",
    "    \n",
    "    print(round(x,cont),\" * (10 ^\",cont-count,\")\")\n",
    "\n",
    "\n",
    "x=10.2568\n",
    "y=4\n",
    "limite=5\n",
    "count=0\n",
    "h=0\n",
    "while(h!=y):\n",
    "  x*=10\n",
    "  count+=1\n",
    "  h+=1\n",
    "justdoit(x,count,limite)\n"
   ]
  }
 ],
 "metadata": {
  "kernelspec": {
   "display_name": "Python [conda root]",
   "language": "python",
   "name": "conda-root-py"
  },
  "language_info": {
   "codemirror_mode": {
    "name": "ipython",
    "version": 3
   },
   "file_extension": ".py",
   "mimetype": "text/x-python",
   "name": "python",
   "nbconvert_exporter": "python",
   "pygments_lexer": "ipython3",
   "version": "3.5.2"
  }
 },
 "nbformat": 4,
 "nbformat_minor": 1
}
