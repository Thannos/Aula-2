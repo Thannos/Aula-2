{
 "cells": [
  {
   "cell_type": "code",
   "execution_count": 30,
   "metadata": {
    "collapsed": false
   },
   "outputs": [
    {
     "name": "stdout",
     "output_type": "stream",
     "text": [
      "1.25\n",
      "10.100000000000001\n",
      "-238.0\n",
      "2.72\n",
      "0.0007\n",
      "718000.0\n"
     ]
    }
   ],
   "source": [
    "print(0.125*10)\n",
    "print(0.101*10**2)\n",
    "print(-0.238*10**3)\n",
    "print(0.272*10)\n",
    "print(0.7*10**-3)\n",
    "print(0.718*10**6)"
   ]
  }
 ],
 "metadata": {
  "kernelspec": {
   "display_name": "Python [default]",
   "language": "python",
   "name": "python3"
  },
  "language_info": {
   "codemirror_mode": {
    "name": "ipython",
    "version": 3
   },
   "file_extension": ".py",
   "mimetype": "text/x-python",
   "name": "python",
   "nbconvert_exporter": "python",
   "pygments_lexer": "ipython3",
   "version": "3.5.2"
  }
 },
 "nbformat": 4,
 "nbformat_minor": 1
}
